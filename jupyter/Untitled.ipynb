{
 "cells": [
  {
   "cell_type": "code",
   "execution_count": null,
   "id": "92c3364b-cfbc-4e98-aca6-3a2e3f674ced",
   "metadata": {},
   "outputs": [],
   "source": [
    "def info_gain(df, attr, target):\n",
    "    total = entropy(df[target])\n",
    "    tam = np.unique(df[attr], return_counts = True)\n",
    "    for ix in tam[1]:\n",
    "        pi = ix/tam\n",
    "        info = total - pi*entropy(attr)"
   ]
  }
 ],
 "metadata": {
  "kernelspec": {
   "display_name": "Python 3 (ipykernel)",
   "language": "python",
   "name": "python3"
  },
  "language_info": {
   "codemirror_mode": {
    "name": "ipython",
    "version": 3
   },
   "file_extension": ".py",
   "mimetype": "text/x-python",
   "name": "python",
   "nbconvert_exporter": "python",
   "pygments_lexer": "ipython3",
   "version": "3.12.3"
  }
 },
 "nbformat": 4,
 "nbformat_minor": 5
}
